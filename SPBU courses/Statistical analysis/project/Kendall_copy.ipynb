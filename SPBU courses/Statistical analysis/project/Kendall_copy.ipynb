{
 "cells": [
  {
   "cell_type": "markdown",
   "metadata": {
    "collapsed": false,
    "jupyter": {
     "outputs_hidden": false
    }
   },
   "source": [
    "# Тренд во временных рядах. Коэффициент корреляции Кендалла."
   ]
  },
  {
   "cell_type": "code",
   "execution_count": 1,
   "metadata": {
    "collapsed": false,
    "jupyter": {
     "outputs_hidden": false
    },
    "ExecuteTime": {
     "end_time": "2025-05-16T12:09:15.764029600Z",
     "start_time": "2025-05-16T12:09:14.683009200Z"
    }
   },
   "outputs": [],
   "source": [
    "import numpy as np\n",
    "import matplotlib.pyplot as plt\n",
    "import math\n",
    "import seaborn as sns\n",
    "from scipy.stats import norm\n",
    "from itertools import permutations\n",
    "from scipy.stats import kendalltau\n",
    "import scipy.stats as stats\n",
    "from tqdm import tqdm\n",
    "import pandas as pd\n",
    "from IPython.display import display, Markdown\n",
    "import os\n",
    "import pandas as pd\n",
    "import kagglehub\n",
    "from glob import glob\n",
    "\n",
    "SEED = 42\n",
    "np.random.seed(SEED)\n",
    "sns.set(style=\"whitegrid\")\n",
    "%matplotlib inline"
   ]
  },
  {
   "cell_type": "markdown",
   "metadata": {
    "collapsed": false,
    "jupyter": {
     "outputs_hidden": false
    }
   },
   "source": [
    "# 2. Теоретическая часть\n",
    "\n",
    "## 2.1. Что такое тренд во временных рядах\n",
    "**Тренд** — это долгосрочная устойчиво выраженная компонента изменения ряда, отражающая системную динамику (рост/спад) во времени.\n",
    "- *Монотонный тренд* — рост или спад на всём интервале.\n",
    "- *Немонотонный тренд* — наличие дополнительных структур (сезонность, разрывы, кусочно-линейные изменения).\n",
    "\n",
    "Основная цель анализа тренда — отделить системную компоненту от стохастического шума и сезонности.\n",
    "\n",
    "## 2.2. Постановка статистической проверки\n",
    "Мы формулируем две гипотезы:\n",
    "\n",
    "- **Нулевая гипотеза (H₀):** отсутствует тренд (коэффициент Кендалла \\(\\tau = 0\\)).\n",
    "- **Альтернативная гипотеза (H₁):** присутствует тренд\n",
    "  - монотонный (\\(\\tau \\neq 0\\))\n",
    "  - или более сложная форма (сезонность, кусочно-линейный тренд).\n",
    "\n",
    "Результатом теста будет **p-value**, по которому мы при уровне значимости \\(\\alpha\\) принимаем или отвергаем H₀.\n",
    "\n",
    "## 2.3. Ключевые понятия\n",
    "- **p-value** — вероятность получить наблюдаемое или более «крайнее» значение статистики при справедливости H₀.\n",
    "- **Уровень значимости (\\(\\alpha\\))** — порог для p-value; если p-value < \\(\\alpha\\), то H₀ отвергается.\n",
    "- **Ошибка I рода (\\(\\alpha\\)-ошибка)** — вероятность отвергнуть H₀, когда она верна.\n",
    "- **Ошибка II рода (\\(\\beta\\)-ошибка)** — вероятность не отвергнуть H₀, когда верна H₁.\n",
    "- **Мощность теста (\\(1-\\beta\\))** — вероятность правильно отвергнуть H₀ при справедливости H₁.\n",
    "\n",
    "## 2.4. Статистика Кендалла (\\(\\tau\\))\n",
    "Идея заключается в сравнении всех несопадающих пар элементов ряда \\(x_1, x_2, \\dots, x_n\\):\n",
    "\n",
    "- **Согласованная пара** \\((i<j)\\):\n",
    "  \\((x_j - x_i)(x'_j - x'_i) > 0\\).\n",
    "- **Несогласованная пара**:\n",
    "  \\((x_j - x_i)(x'_j - x'_i) < 0\\).\n",
    "\n",
    "Для одномерного ряда (сравниваем просто упорядоченность по времени) формула упрощается:\n",
    "\n",
    "$$\n",
    "\\tau = \\frac{C - D}{\\binom{n}{2}}\n",
    "$$\n",
    "\n",
    "где\n",
    "- \\(C\\) — число согласованных пар,\n",
    "- \\(D\\) — число несогласованных пар,\n",
    "- \\(\\displaystyle \\binom{n}{2} = \\frac{n(n-1)}{2}\\) — общее число пар.\n",
    "\n",
    "---\n",
    "\n",
    "## 2.5. Два способа расчёта p-value\n",
    "\n",
    "### 2.5.1 Асимптотический критерий\n",
    "При достаточно большом \\(n\\) считается, что:\n",
    "\n",
    "$$\n",
    "Z = \\frac{\\tau}{\\sigma_\\tau},\n",
    "\\quad\n",
    "\\sigma_\\tau = \\sqrt{\\frac{2(2n + 5)}{9\\,n\\,(n - 1)}}\n",
    "$$\n",
    "\n",
    "асимптотически распределена как стандартное нормальное \\(\\mathcal{N}(0,1)\\).\n",
    "\n",
    "- **Плюсы:**\n",
    "  - Очень быстрая оценка.\n",
    "  - Легко реализуется и масштабируется на большие объёмы данных.\n",
    "- **Минусы:**\n",
    "  - При малых \\(n\\) (например, \\(n \\lesssim 30\\)) может давать неверный уровень ошибки I рода (консервативный или радикальный).\n",
    "\n",
    "### 2.5.2 Точный критерий\n",
    "Для небольших \\(n\\) можно напрямую оценить распределение \\(\\tau\\) по всем (или значительной части) перестановок наблюдений и вычислить **точное p-value** без аппроксимаций.\n",
    "\n",
    "- **Плюсы:**\n",
    "  - Гарантированно корректный уровень значимости при любых \\(n\\).\n",
    "- **Минусы:**\n",
    "  - Комбинаторная сложность растёт как \\(O(n!)\\) (или близко к этому), поэтому при \\(n \\gtrsim 50\\) вычисления становятся очень тяжёлыми.\n",
    "\n",
    "---\n",
    "\n",
    "**Зачем нам оба подхода?**\n",
    "- Проверить применимость асимптотики: эмпирически оценить, насколько при выбранных \\(n\\) уровень I рода близок к заявленному \\(\\alpha\\).\n",
    "- Определить, при каких \\(n\\) можно обойтись быстрым асимптотическим тестом, а когда нужен точный (или наоборот, асимптотика радикально «ошибается»).\n",
    "- На основе этого отбирать методы для последующего сравнения по мощности: исключать радикальные, оставлять точные и асимптотические там, где они корректны.\n"
   ]
  },
  {
   "cell_type": "markdown",
   "metadata": {
    "collapsed": false,
    "jupyter": {
     "outputs_hidden": false
    }
   },
   "source": [
    "### 3.1. Подсчёт согласованных и несогласованных пар\n",
    "\n",
    "Для вычисления коэффициента Кендалла \\(\\tau\\) нам сначала нужно посчитать, сколько в ряде пар \\((i,j)\\), \\(i<j\\), являются:\n",
    "\n",
    "- **Согласованными** — значения идут в том же порядке (возрастают или убывают вместе, то есть \\(x_j > x_i\\)),\n",
    "- **Несогласованными** — порядок противоположный (\\(x_j < x_i\\)).\n",
    "\n",
    "Реализуем функцию `count_concordant_discordant(x)`, которая для одномерного массива \\(x\\) возвращает пару \\((C, D)\\).\n"
   ]
  },
  {
   "cell_type": "code",
   "execution_count": null,
   "metadata": {
    "collapsed": false,
    "jupyter": {
     "outputs_hidden": false
    }
   },
   "outputs": [],
   "source": [
    "def count_concordant_discordant(x):\n",
    "    \"\"\"\n",
    "    Посчитать число согласованных (C) и несогласованных (D) пар в одномерном массиве x.\n",
    "    Пары (i,j) считаются:\n",
    "      - согласованными, если x[j] - x[i] > 0\n",
    "      - несогласованными, если x[j] - x[i] < 0\n",
    "    \"\"\"\n",
    "    n = len(x)\n",
    "    C = D = 0\n",
    "    for i in range(n):\n",
    "        for j in range(i+1, n):\n",
    "            if x[j] > x[i]:\n",
    "                C += 1\n",
    "            elif x[j] < x[i]:\n",
    "                D += 1\n",
    "    return C, D"
   ]
  },
  {
   "cell_type": "markdown",
   "metadata": {
    "collapsed": false,
    "jupyter": {
     "outputs_hidden": false
    }
   },
   "source": [
    "## 3.2 Расчёт τ и асимптотическое p-value\n",
    "\n",
    "Зная \\(C\\) и \\(D\\), рассчитываем коэффициент Кендалла:\n",
    "\n",
    "$$\n",
    "\\tau = \\frac{C - D}{\\binom{n}{2}},\n",
    "$$\n",
    "\n",
    "а затем, при большом \\(n\\), используем нормальное приближение:\n",
    "\n",
    "$$\n",
    "\\sigma_\\tau = \\sqrt{\\frac{2(2n + 5)}{9\\,n\\,(n - 1)}},\n",
    "\\quad\n",
    "Z = \\frac{\\tau}{\\sigma_\\tau},\n",
    "\\quad\n",
    "p = 2\\bigl(1 - \\Phi(|Z|)\\bigr).\n",
    "$$\n",
    "\n",
    "Напишем функцию `kendall_asymp` для этого расчёта."
   ]
  },
  {
   "cell_type": "code",
   "execution_count": null,
   "metadata": {
    "collapsed": false,
    "jupyter": {
     "outputs_hidden": false
    }
   },
   "outputs": [],
   "source": [
    "def kendall_asymp(x):\n",
    "    \"\"\"\n",
    "    Возвращает (tau, p_value) по асимптотическому критерию Кендалла.\n",
    "    \"\"\"\n",
    "    n = len(x)\n",
    "    C, D = count_concordant_discordant(x)\n",
    "    tau = (C - D) / (0.5 * n * (n - 1))\n",
    "    var_tau = 2 * (2*n + 5) / (9 * n * (n - 1))\n",
    "    sigma = np.sqrt(var_tau)\n",
    "    Z = tau / sigma\n",
    "    p_value = 2 * (1 - norm.cdf(abs(Z)))\n",
    "    return tau, p_value"
   ]
  },
  {
   "cell_type": "markdown",
   "metadata": {
    "collapsed": false,
    "jupyter": {
     "outputs_hidden": false
    }
   },
   "source": [
    "## 3.3 Точный p-value для малых \\(n\\)\n",
    "\n",
    "При небольших \\(n\\) аппроксимация может быть некорректной. В этом случае мы можем прямо сгенерировать все перестановки входного массива и оценить эмпирическое распределение статистики \\((C - D)\\).\n",
    "Двухсторонний p-value — доля перестановок, у которых \\(|C - D|\\) не меньше наблюдаемого."
   ]
  },
  {
   "cell_type": "code",
   "execution_count": null,
   "metadata": {
    "collapsed": false,
    "jupyter": {
     "outputs_hidden": false
    }
   },
   "outputs": [],
   "source": [
    "def kendall_exact(x):\n",
    "    \"\"\"\n",
    "    Вычисляет точный p-value (двухсторонний) для коэффициента Кендалла\n",
    "    перебором всех перестановок. Работает только для небольших n.\n",
    "    \"\"\"\n",
    "    n = len(x)\n",
    "    if n > 8:\n",
    "        raise ValueError(\"Exact p-value only implemented for n <= 8\")\n",
    "\n",
    "    # наблюдаемая статистика S_obs = C - D\n",
    "    C_obs, D_obs = count_concordant_discordant(x)\n",
    "    S_obs = C_obs - D_obs\n",
    "\n",
    "    # собираем статистику для всех перестановок\n",
    "    S_all = []\n",
    "    for perm in permutations(x):\n",
    "        C, D = count_concordant_discordant(perm)\n",
    "        S_all.append(C - D)\n",
    "    S_all = np.array(S_all)\n",
    "\n",
    "    # двухсторонний p-value\n",
    "    p_value = np.mean(np.abs(S_all) >= abs(S_obs))\n",
    "    tau = S_obs / (0.5 * n * (n - 1))\n",
    "    return tau, p_value"
   ]
  },
  {
   "cell_type": "markdown",
   "metadata": {
    "collapsed": false,
    "jupyter": {
     "outputs_hidden": false
    }
   },
   "source": [
    "## 3.4 Общая функция `kendall_tau_test`\n",
    "\n",
    "Объединим оба метода в одну функцию с ключом `method`:\n",
    "- `asymptotic` — быстрое нормальное приближение;\n",
    "- `exact` — точный тест (только для \\(n \\le 8\\))."
   ]
  },
  {
   "cell_type": "code",
   "execution_count": null,
   "metadata": {
    "collapsed": false,
    "jupyter": {
     "outputs_hidden": false
    }
   },
   "outputs": [],
   "source": [
    "def kendall_tau_test(x, method='asymptotic'):\n",
    "    \"\"\"\n",
    "    Два способа расчёта теста Кендалла:\n",
    "    - method='asymptotic' — нормальноe приближение\n",
    "    - method='exact'      — точный тест (n <= 8)\n",
    "    Возвращает (tau, p_value).\n",
    "    \"\"\"\n",
    "    if method == 'asymptotic':\n",
    "        return kendall_asymp(x)\n",
    "    elif method == 'exact':\n",
    "        return kendall_exact(x)\n",
    "    else:\n",
    "        raise ValueError(\"method must be 'asymptotic' or 'exact'\")"
   ]
  },
  {
   "cell_type": "markdown",
   "metadata": {
    "collapsed": false,
    "jupyter": {
     "outputs_hidden": false
    }
   },
   "source": [
    "## 3.5 Вспомогательная проверка через SciPy\n",
    "\n",
    "Проверим на небольшом примере, что наши результаты совпадают со `scipy.stats.kendalltau` при `method='exact'` и в асимптотическом режиме."
   ]
  },
  {
   "cell_type": "code",
   "execution_count": null,
   "metadata": {
    "collapsed": false,
    "jupyter": {
     "outputs_hidden": false
    }
   },
   "outputs": [],
   "source": [
    "# пример данных\n",
    "x = [5, 2, 9, 4, 7, 1, 3]\n",
    "\n",
    "# наша реализация\n",
    "tau_as, p_as = kendall_tau_test(x, method='asymptotic')\n",
    "tau_ex, p_ex = kendall_tau_test(x, method='exact')\n",
    "\n",
    "# SciPy\n",
    "tau_as_scipy, p_as_scipy = kendalltau(range(len(x)), x, method='asymptotic')\n",
    "tau_ex_scipy, p_ex_scipy = kendalltau(range(len(x)), x, method='exact')\n",
    "\n",
    "print(\"Asymptotic:   ours =\", (tau_as, p_as), \" scipy =\", (tau_as_scipy, p_as_scipy))\n",
    "print(\"Exact (n<=8): ours =\", (tau_ex, p_ex), \" scipy =\", (tau_ex_scipy, p_ex_scipy))"
   ]
  },
  {
   "cell_type": "markdown",
   "metadata": {
    "collapsed": false,
    "jupyter": {
     "outputs_hidden": false
    }
   },
   "source": [
    "*Комментарии:*\n",
    "- Для асимптотического метода результаты должны практически совпадать (за редким исключением численных погрешностей).\n",
    "- Для точного метода мы проверяем, что наше значение \\(\\tau\\) и p-value совпадают со SciPy при \\(n \\le 8\\).\n",
    "- Дальше мы будем использовать `kendall_tau_test` в симуляциях и на реальных данных."
   ]
  },
  {
   "cell_type": "markdown",
   "metadata": {
    "collapsed": false,
    "jupyter": {
     "outputs_hidden": false
    }
   },
   "source": [
    "## 4. Симуляция под H₀ (оценка ошибки I рода)\n",
    "\n",
    "Наша цель — эмпирически оценить уровень ошибки I рода для асимптотического и точного (по возможности) тестов Кендалла на двух моделях без тренда:\n",
    "\n",
    "1. **Белый шум**:\n",
    "$$\n",
    "   x_t \\sim \\mathcal{N}(0,1)\n",
    "$$\n",
    "2. **Шум + сезонность**:\n",
    "$$\n",
    "   x_t = A \\sin\\!\\Bigl(\\tfrac{2\\pi t}{T}\\Bigr) + \\varepsilon_t,\\quad\n",
    "   \\varepsilon_t \\sim \\mathcal{N}(0,1)\n",
    "$$\n",
    "\n",
    "Параметры симуляции:\n",
    "- Длины выборок (\\(n = 30, 50, 100\\))\n",
    "- Число повторов (\\(R = 1000\\))\n",
    "- Уровни значимости (\\(\\alpha = 0.01, 0.05\\))\n",
    "\n",
    "Для каждой модели, каждого \\(n\\), каждого метода (`asymptotic` / `exact`) и каждого \\(\\alpha\\) мы:\n",
    "1. Генерируем \\(R\\) рядов,\n",
    "2. Считаем p-value тестом Кендалла,\n",
    "3. Считаем долю случаев \\(p < \\alpha\\) — это эмпирический уровень ошибки I рода.\n",
    "\n",
    "> **Замечание.**\n",
    "> — Мы используем нашу функцию `kendall_asymp` для асимптотического метода.\n",
    "> — Для точного `exact` сначала пытаемся нашу реализацию `kendall_exact` (только для \\(n \\le 8\\)); если она недоступна, падаем на `scipy.stats.kendalltau(..., method='exact')`, но при больших \\(n\\) это может быть очень медленно или не поддерживаться — в таких случаях будем получать `NaN` и пропускать."
   ]
  },
  {
   "cell_type": "code",
   "execution_count": null,
   "metadata": {
    "collapsed": false,
    "jupyter": {
     "outputs_hidden": false
    }
   },
   "outputs": [],
   "source": [
    "# Генераторы безтрендовых рядов\n",
    "def generate_white_noise(n):\n",
    "    return np.random.normal(size=n)\n",
    "\n",
    "def generate_seasonal(n, A=5.0, T=12, noise_scale=0.5):\n",
    "    t = np.arange(n)\n",
    "    season = A * np.sin(2 * np.pi * t / T)\n",
    "    noise  = np.random.normal(scale=noise_scale, size=n)\n",
    "    return season + noise\n",
    "\n",
    "# Параметры\n",
    "models = {\n",
    "    'white_noise': generate_white_noise,\n",
    "    'seasonal':    generate_seasonal\n",
    "}\n",
    "ns      = [30, 50, 100]\n",
    "methods = ['asymptotic', 'exact']\n",
    "alphas  = [0.01, 0.05]\n",
    "R       = 1000\n",
    "\n",
    "records = []\n",
    "for model_name, gen in models.items():\n",
    "    for n in ns:\n",
    "        for method in methods:\n",
    "            for alpha in alphas:\n",
    "                reject = 0\n",
    "                valid  = 0\n",
    "                desc = f\"{model_name}, n={n}, method={method}, α={alpha}\"\n",
    "                for _ in tqdm(range(R), desc=desc, leave=False):\n",
    "                    x = gen(n)\n",
    "                    # асимптотический метод всегда доступен\n",
    "                    if method == 'asymptotic':\n",
    "                        _, p = kendall_asymp(x)\n",
    "\n",
    "                    # точный метод — только если n <= 8\n",
    "                    else:\n",
    "                        if n > 8:\n",
    "                            # exact-тест неприменим для больших n\n",
    "                            continue\n",
    "                        _, p = kendall_exact(x)\n",
    "\n",
    "                    # учитываем лишь валидные p-value\n",
    "                    valid += 1\n",
    "                    if p < alpha:\n",
    "                        reject += 1\n",
    "\n",
    "                emp_level = reject / valid if valid > 0 else np.nan\n",
    "                records.append({\n",
    "                    'model':         model_name,\n",
    "                    'n':             n,\n",
    "                    'method':        method,\n",
    "                    'alpha':         alpha,\n",
    "                    'empirical_α':   emp_level,\n",
    "                    'replicates_used': valid\n",
    "                })\n",
    "\n",
    "df_h0 = pd.DataFrame.from_records(records)\n",
    "def classify(emp, alpha, tol):\n",
    "    if emp > alpha + tol: return 'radical'\n",
    "    if emp < alpha - tol: return 'conservative'\n",
    "    return 'accurate'\n",
    "df_h0['type'] = df_h0.apply(lambda r: classify(r['empirical_α'], r['alpha'], tol), axis=1)\n",
    "\n",
    "df_h0"
   ]
  },
  {
   "cell_type": "markdown",
   "metadata": {
    "collapsed": false,
    "jupyter": {
     "outputs_hidden": false
    }
   },
   "source": [
    "### 4.1 Распределение p-value под H₀\n",
    "Посмотрим, насколько равномерно распределены p-значения под нулевой гипотезой — гистограммы и QQ-плоты для каждого генератора и каждого метода.\n"
   ]
  },
  {
   "cell_type": "code",
   "execution_count": null,
   "metadata": {
    "collapsed": false,
    "jupyter": {
     "outputs_hidden": false
    }
   },
   "outputs": [],
   "source": [
    "def collect_pvals(gen, method, n, R=1000):\n",
    "    pvals = []\n",
    "    for _ in range(R):\n",
    "        x = gen(n)\n",
    "        if method == 'asymptotic':\n",
    "            _, p = kendall_asymp(x)\n",
    "        else:\n",
    "            _, p = kendall_exact(x)\n",
    "        pvals.append(p)\n",
    "    return np.array(pvals)\n",
    "\n",
    "# параметры для визуализации\n",
    "R_vis   = 1000\n",
    "n_asymp = 50   # для асимптотического метода\n",
    "n_exact = 8    # для точного (n<=8)\n",
    "\n",
    "# соберём p-value под H₀\n",
    "pvals_h0 = {}\n",
    "for model_name, gen in models.items():\n",
    "    pvals_h0[(model_name, 'asymptotic')] = collect_pvals(gen, 'asymptotic', n_asymp, R_vis)\n",
    "    pvals_h0[(model_name, 'exact')]       = collect_pvals(gen, 'exact',      n_exact, R_vis)\n",
    "\n",
    "# Гистограммы p-value\n",
    "fig, axes = plt.subplots(len(models), 2, figsize=(10, 4*len(models)))\n",
    "for i, (model_name, _) in enumerate(models.items()):\n",
    "    for j, method in enumerate(['asymptotic', 'exact']):\n",
    "        pv = pvals_h0[(model_name, method)]\n",
    "        ax = axes[i, j]\n",
    "        sns.histplot(pv, bins=30, ax=ax)\n",
    "        ax.set_title(f\"{model_name}, {method} (n={n_asymp if method=='asymptotic' else n_exact})\")\n",
    "        ax.set_xlabel(\"p-value\")\n",
    "        ax.set_ylabel(\"Частота\")\n",
    "plt.tight_layout()\n",
    "plt.show()\n",
    "\n",
    "# QQ-плоты для равномерности распределения p-value\n",
    "fig, axes = plt.subplots(len(models), 2, figsize=(10, 4*len(models)))\n",
    "for i, (model_name, _) in enumerate(models.items()):\n",
    "    for j, method in enumerate(['asymptotic', 'exact']):\n",
    "        pv = pvals_h0[(model_name, method)]\n",
    "        ax = axes[i, j]\n",
    "        stats.probplot(pv, dist=\"uniform\", plot=ax)\n",
    "        ax.set_title(f\"QQ-plot {model_name}, {method}\")\n",
    "plt.tight_layout()\n",
    "plt.show()\n"
   ]
  },
  {
   "cell_type": "markdown",
   "metadata": {
    "collapsed": false,
    "jupyter": {
     "outputs_hidden": false
    }
   },
   "source": []
  },
  {
   "cell_type": "markdown",
   "metadata": {
    "collapsed": false,
    "jupyter": {
     "outputs_hidden": false
    }
   },
   "source": [
    "## Распределение p-value под \\(H_0\\)\n",
    "\n",
    "- **White noise, \\(n=50\\), asymptotic**\n",
    "  Гистограмма почти равномерна на \\([0,1]\\), QQ-plot — точечная линия вдоль диагонали ⇒ \\(p\\)-значения действительно следуют \\(\\mathcal{U}(0,1)\\).\n",
    "- **White noise, \\(n=8\\), exact**\n",
    "  Наблюдаются дискретные пики (из-за малого числа перестановок), но в сумме точки лежат близко к диагонали QQ-plot ⇒ точный критерий сохраняет уровень.\n",
    "- **Seasonal, \\(n=50\\), asymptotic**\n",
    "  Гистограмма смещена к центру (почти нет экстремальных \\(p<0.05\\) или \\(p>0.95\\)), QQ-plot выпуклый вверх ⇒ нормальное приближение **консервативно** занижает вероятность крайних \\(p\\).\n",
    "- **Seasonal, \\(n=8\\), exact**\n",
    "  Дискретность точно такая же, но пики \\(p\\) лежат вблизи центра ⇒ точный критерий сохраняет уровень и при сезонности.\n"
   ]
  },
  {
   "cell_type": "markdown",
   "metadata": {
    "collapsed": false,
    "jupyter": {
     "outputs_hidden": false
    }
   },
   "source": [
    "В итоговой таблице `df_h0` будет по строке на каждую комбинацию (модель, \\(n\\), метод, \\(\\alpha\\)):\n",
    "\n",
    "- **empirical_α** — эмпирический уровень ошибки I рода (\\(\\hat P(p < \\alpha)\\)),\n",
    "- **replicates_used** — число повторов, где удалось получить p-value (точный метод мог пропускать крупные \\(n\\)).\n",
    "\n",
    "Далее мы сможем классифицировать каждый метод как:\n",
    "- **радикальный**, если `empirical_α > \\alpha`\n",
    "- **консервативный**, если `empirical_α < \\alpha`\n",
    "- **точный**, если \\(|\\text{empirical}_\\alpha - \\alpha|\\) невелико.\n",
    "\n",
    "После этого перейдём к оценке мощности при \\(H_1\\)."
   ]
  },
  {
   "cell_type": "markdown",
   "metadata": {
    "collapsed": false,
    "jupyter": {
     "outputs_hidden": false
    }
   },
   "source": [
    "## 5. Симуляция под H₁ (оценка мощности)\n",
    "\n",
    "Здесь мы оцениваем **мощность** тестов Кендалла при трёх видах альтернатив:\n",
    "\n",
    "1. **Линейный тренд:**\n",
    "\n",
    "   $$\n",
    "   x_t = \\beta\\,t + \\varepsilon_t,\\quad \\varepsilon_t \\sim \\mathcal{N}(0,1).\n",
    "   $$\n",
    "\n",
    "2. **Линейный тренд + сезонность:**\n",
    "\n",
    "   $$\n",
    "   x_t = \\beta\\,t + A \\sin\\!\\Bigl(\\tfrac{2\\pi t}{T}\\Bigr) + \\varepsilon_t,\n",
    "   \\quad A = 5,\\ T = 12.\n",
    "   $$\n",
    "\n",
    "3. **Кусочно-линейный тренд (немонотонный):**\n",
    "\n",
    "   $$\n",
    "   x_t =\n",
    "     \\begin{cases}\n",
    "       \\beta\\,t + \\varepsilon_t, & t \\le \\lfloor n/2 \\rfloor,\\\\\n",
    "       \\beta\\,(n - 1 - t) + \\varepsilon_t, & t > \\lfloor n/2 \\rfloor.\n",
    "     \\end{cases}\n",
    "   $$\n",
    "\n",
    "Параметры симуляции те же, что и под H₀:\n",
    "- \\(n = 30, 50, 100\\)\n",
    "- \\(\\alpha = 0.01, 0.05\\)\n",
    "- \\(R = 1000\\)\n",
    "- \\(\\beta = [0.02, 0.05, 0.1, 0.2]\\)\n",
    "\n",
    "**Шаг 1.** Отберём из результатов под H₀ лишь те сочетания \\((n, \\mathrm{method}, \\alpha)\\), где тест **не радикален** (эмпирический уровень \\(\\leq \\alpha\\)).\n",
    "\n",
    "**Шаг 2.** Для каждой «годной» комбинации, каждого сценария и каждого \\(\\beta\\) сгенерировать \\(R\\) рядов, применить тест и вычислить долю \\(p < \\alpha\\) — это и есть мощность."
   ]
  },
  {
   "cell_type": "code",
   "execution_count": null,
   "metadata": {
    "collapsed": false,
    "jupyter": {
     "outputs_hidden": false
    }
   },
   "outputs": [],
   "source": [
    "# 5.1 Определяем «годные» комбинации для мощности\n",
    "std_emp = math.sqrt(alpha*(1-alpha)/R)\n",
    "tol = 2*std_emp\n",
    "valid_keys = set()\n",
    "for (n, method, alpha), group in df_h0.groupby(['n','method','alpha']):\n",
    "    if np.all(np.abs(group['empirical_α'] - alpha) <= tol):\n",
    "        valid_keys.add((n, method, alpha))\n",
    "\n",
    "# 5.2 Генераторы альтернатив\n",
    "def gen_linear(n, beta):\n",
    "    t = np.arange(n)\n",
    "    return beta * t + np.random.normal(size=n)\n",
    "\n",
    "def gen_linear_seasonal(n, beta, A=5.0, T=12, noise_scale=0.5):\n",
    "    t = np.arange(n)\n",
    "    season = A * np.sin(2 * np.pi * t / T)\n",
    "    noise  = np.random.normal(scale=noise_scale, size=n)\n",
    "    return beta * t + season + noise\n",
    "\n",
    "def gen_piecewise(n, beta):\n",
    "    t = np.arange(n)\n",
    "    half = n // 2\n",
    "    x = np.empty(n)\n",
    "    x[:half] = beta * t[:half]\n",
    "    x[half:] = beta * (n - 1 - t[half:])\n",
    "    x += np.random.normal(size=n)\n",
    "    return x\n",
    "\n",
    "alt_models = {\n",
    "    'linear':           gen_linear,\n",
    "    'linear_seasonal':  gen_linear_seasonal,\n",
    "    'piecewise':        gen_piecewise\n",
    "}\n",
    "betas   = [0.02, 0.05, 0.1]\n",
    "\n",
    "# 5.3 Запуск симуляций для оценки мощности (с накоплением τ и CI)\n",
    "records_h1 = []\n",
    "z = 1.96\n",
    "\n",
    "for alt_name, gen in alt_models.items():\n",
    "    for n in ns:\n",
    "        for method in methods:\n",
    "            for alpha in alphas:\n",
    "                if (n, method, alpha) not in valid_keys:\n",
    "                    continue\n",
    "                for beta in betas:\n",
    "                    reject = 0\n",
    "                    taus   = []\n",
    "                    valid  = 0\n",
    "                    desc   = f\"{alt_name}, n={n}, method={method}, α={alpha}, β={beta}\"\n",
    "                    for _ in tqdm(range(R), desc=desc, leave=False):\n",
    "                        x = gen(n, beta)\n",
    "                        if method == 'asymptotic':\n",
    "                            tau, p = kendall_asymp(x)\n",
    "                        else:\n",
    "                            try:\n",
    "                                tau, p = kendall_exact(x)\n",
    "                            except:\n",
    "                                continue\n",
    "\n",
    "                        valid += 1\n",
    "                        taus.append(tau)\n",
    "                        if p < alpha:\n",
    "                            reject += 1\n",
    "\n",
    "                    # вычисляем показатели\n",
    "                    power    = reject / valid if valid > 0 else np.nan\n",
    "                    mean_tau = np.mean(taus) if taus else np.nan\n",
    "                    se_tau   = (np.std(taus, ddof=1) / np.sqrt(len(taus))\n",
    "                                if len(taus) > 1 else np.nan)\n",
    "                    tau_low  = mean_tau - z * se_tau\n",
    "                    tau_high = mean_tau + z * se_tau\n",
    "\n",
    "                    records_h1.append({\n",
    "                        'alternative':    alt_name,\n",
    "                        'n':              n,\n",
    "                        'method':         method,\n",
    "                        'alpha':          alpha,\n",
    "                        'beta':           beta,\n",
    "                        'power':          power,\n",
    "                        'replicates_used':valid,\n",
    "                        'tau_mean':       mean_tau,\n",
    "                        'tau_low':        tau_low,\n",
    "                        'tau_high':       tau_high\n",
    "                    })\n",
    "\n",
    "# собираем DataFrame\n",
    "df_h1 = pd.DataFrame.from_records(records_h1)\n",
    "\n",
    "# 5.4 CI для мощности\n",
    "df_h1['se_power'] = np.sqrt(df_h1['power'] * (1 - df_h1['power']) /\n",
    "                            df_h1['replicates_used'])\n",
    "df_h1['low']      = (df_h1['power'] - z * df_h1['se_power']).clip(0)\n",
    "df_h1['high']     = (df_h1['power'] + z * df_h1['se_power']).clip(1)\n",
    "\n",
    "df_h1\n",
    "# # смотрим результат\n",
    "# cols = ['alternative','n','method','alpha','beta',\n",
    "#         'tau_mean','tau_low','tau_high',\n",
    "#         'power','low','high']\n",
    "# display(df_h1[cols].round(3))\n"
   ]
  },
  {
   "cell_type": "markdown",
   "metadata": {
    "collapsed": false,
    "jupyter": {
     "outputs_hidden": false
    }
   },
   "source": [
    "В полученной `df_h1` увидим оценку мощности для каждой комбинации:\n",
    "- **scenario** — тип альтернативы,\n",
    "- **n, method, alpha, beta**,\n",
    "- **power** — доля повторов, в которых \\(p < \\alpha\\).\n",
    "\n",
    "Далее построим графики мощности в зависимости от \\(\\beta\\) для каждого сценария и сравним асимптотический и точный (если он годен) методы."
   ]
  },
  {
   "cell_type": "markdown",
   "metadata": {
    "collapsed": false,
    "jupyter": {
     "outputs_hidden": false
    }
   },
   "source": [
    "## 6. Визуализация результатов\n",
    "\n",
    "В этом блоке мы наглядно представим все ключевые итоги наших симуляций:\n",
    "\n",
    "1. **Примеры временных рядов**\n",
    "   - H₀: белый шум и шум с сезонностью\n",
    "   - H₁: линейный тренд, линейный + сезонность и кусочно-линейный тренд (β=0.1)\n",
    "\n",
    "2. **Распределения p-value под H₀**\n",
    "   - Асимптотический метод при n=50\n",
    "   - Точный метод при n=8\n",
    "\n",
    "3. **Эмпирические уровни ошибки I рода**\n",
    "   - Точечные графики \\(\\hat\\alpha\\) vs \\(n\\) для обоих методов и моделей\n",
    "   - Классификация тестов как *radical*, *conservative* или *accurate*\n",
    "\n",
    "4. **Кривые мощности**\n",
    "   - Мощность vs β для трёх сценариев альтернатив при каждом уровне \\(\\alpha\\)\n",
    "\n",
    "*(df_h0 — результаты симуляции H₀, df_h1 — результаты симуляции H₁, функции generate_…, kendall_asymp и kendall_exact уже определены выше)*"
   ]
  },
  {
   "cell_type": "code",
   "execution_count": null,
   "metadata": {
    "collapsed": false,
    "jupyter": {
     "outputs_hidden": false
    }
   },
   "outputs": [],
   "source": [
    "# 6.1 Примеры временных рядов H₀ и H₁ (n=100)\n",
    "n0 = 100\n",
    "plt.figure(figsize=(12, 8))\n",
    "\n",
    "import matplotlib as mpl\n",
    "mpl.rcParams['font.family'] = 'DejaVu Sans'    # <- опционально, но надёжно\n",
    "\n",
    "# 6.1 Примеры временных рядов H₀ и H₁ (n=100)\n",
    "n0 = 100\n",
    "plt.figure(figsize=(12, 8))\n",
    "\n",
    "# H₀: white noise и noise+seasonal\n",
    "plt.subplot(3, 2, 1)\n",
    "plt.plot(generate_white_noise(n0))\n",
    "plt.title(r\"$H_0$: Белый шум, n=100\")\n",
    "\n",
    "plt.subplot(3, 2, 2)\n",
    "plt.plot(generate_seasonal(n0, A=5.0, T=12, noise_scale=0.5))\n",
    "plt.title(r\"Шум + сезонность $H_0$, n=100\")\n",
    "\n",
    "# H₁: linear, linear_seasonal, piecewise (β=0.1, A=5.0, σ=0.5)\n",
    "plt.subplot(3, 2, 3)\n",
    "plt.plot(gen_linear(n0, beta=0.1))\n",
    "plt.title(r\"Линейный тренд $H_1$, $\\beta=0.1$\")\n",
    "\n",
    "plt.subplot(3, 2, 4)\n",
    "plt.plot(gen_linear_seasonal(n0, beta=0.1, A=5.0, T=12))\n",
    "plt.title(r\"Линейный + сезонность $H_1$, $\\beta=0.1$\")\n",
    "\n",
    "plt.subplot(3, 2, 5)\n",
    "plt.plot(gen_piecewise(n0, beta=0.1))\n",
    "plt.title(r\"Кусочно-линейный $H_1$, $\\beta=0.1$\")\n",
    "\n",
    "display(Markdown(\n",
    "    \"**Параметры симуляции и визуализации**  \\n\"\n",
    "    f\"- длина рядов: $n\\\\in\\\\{{{', '.join(map(str, ns))}\\\\}}$  \\n\"\n",
    "    f\"- уровни значимости: $\\\\alpha\\\\in\\\\{{{', '.join(map(str, alphas))}\\\\}}$  \\n\"\n",
    "    f\"- число повторов на каждую точку: $R={R}$  \\n\"\n",
    "))\n",
    "\n",
    "# Таблица со средними τ и мощностями\n",
    "cols = ['alternative','n','beta','tau_mean','tau_low','tau_high','power','low','high']\n",
    "display(df_h1[cols].round(3))\n",
    "\n",
    "\n",
    "plt.tight_layout()\n",
    "plt.show()\n",
    "\n",
    "# 6.2 Собираем p-value\n",
    "def collect_pvals(model_func, method, n, R=1000):\n",
    "    if method=='exact' and n>8:\n",
    "        raise ValueError(\"Exact test only for n<=8\")\n",
    "    pvals = []\n",
    "    for _ in range(R):\n",
    "        x = model_func(n)\n",
    "        tau, p = (kendall_asymp(x) if method=='asymptotic'\n",
    "                  else kendall_exact(x))\n",
    "        pvals.append(p)\n",
    "    return np.array(pvals)\n",
    "\n",
    "# Рисуем гистограммы\n",
    "fig, axes = plt.subplots(2, 2, figsize=(10, 8))\n",
    "for i, (model_name, gen) in enumerate(models.items()):\n",
    "    # асимптотический, n=50\n",
    "    p_as = collect_pvals(gen, 'asymptotic', n=50, R=1000)\n",
    "    ax = axes[i, 0]\n",
    "    sns.histplot(p_as, bins=30, ax=ax)\n",
    "    ax.set_title(f\"{model_name}, asymptotic, n=50\")\n",
    "    ax.set_xlabel(\"p-value\")\n",
    "    ax.set_ylabel(\"Частота\")\n",
    "    # точный, n=8\n",
    "    p_ex = collect_pvals(gen, 'exact', n=8, R=1000)\n",
    "    ax = axes[i, 1]\n",
    "    sns.histplot(p_ex, bins=30, ax=ax)\n",
    "    ax.set_title(f\"{model_name}, exact, n=8\")\n",
    "    ax.set_xlabel(\"p-value\")\n",
    "    ax.set_ylabel(\"Частота\")\n",
    "\n",
    "plt.tight_layout()\n",
    "plt.show()\n",
    "\n",
    "# 6.3 Точечный график эмпирических α\n",
    "tol_dict = {alpha: 2*np.sqrt(alpha*(1-alpha)/R) for alpha in alphas}\n",
    "df_h0['type'] = df_h0.apply(\n",
    "    lambda row: ('radical'      if row['empirical_α'] > row['alpha'] + tol_dict[row['alpha']]\n",
    "                 else 'conservative' if row['empirical_α'] < row['alpha'] - tol_dict[row['alpha']]\n",
    "                 else 'accurate'),\n",
    "    axis=1\n",
    ")\n",
    "\n",
    "g = sns.catplot(\n",
    "    data=df_h0, x='n', y='empirical_α',\n",
    "    hue='method', col='model',\n",
    "    kind='point', dodge=True, height=4, aspect=1\n",
    ")\n",
    "for ax, alpha in zip(g.axes.flat, alphas * len(models)):\n",
    "    ax.axhline(alpha, linestyle='--', color='gray')\n",
    "g.set_axis_labels(\"$n$\", r\"Эмпирический $\\alpha$\")\n",
    "g.set_titles(\"{col_name}\")\n",
    "g._legend.set_title(\"Метод\")\n",
    "plt.subplots_adjust(top=0.85)\n",
    "g.fig.suptitle(\"Эмпирические уровни ошибки I рода и классификация\")\n",
    "plt.show()\n",
    "\n",
    "# 6.4 Кривые мощностей\n",
    "fig, axes = plt.subplots(len(alphas), 1, figsize=(8, 5*len(alphas)), sharex=True)\n",
    "\n",
    "for ax, alpha in zip(axes, alphas):\n",
    "    dat = df_h1[df_h1['alpha'] == alpha]\n",
    "\n",
    "    # рисуем линии мощности\n",
    "    sns.lineplot(data=dat, x='beta', y='power',\n",
    "                 hue='method', style='alternative',\n",
    "                 markers=True, dashes=False, ax=ax)\n",
    "\n",
    "    # добавляем ленты CI\n",
    "    for (mtd, alt), g in dat.groupby(['method', 'alternative']):\n",
    "        ax.fill_between(g['beta'], g['low'], g['high'],\n",
    "                        alpha=.15, linewidth=0)\n",
    "\n",
    "    ax.set_title(rf\"Мощность при $\\alpha={alpha}$\")\n",
    "    ax.set_xlabel(r\"$\\beta$\")\n",
    "    ax.set_ylabel(\"Power\")\n",
    "\n",
    "    # компактная легенда\n",
    "    handles, labels = ax.get_legend_handles_labels()\n",
    "    ax.legend(handles=handles, labels=labels, title=\"Метод / Сценарий\",\n",
    "              loc='upper left', bbox_to_anchor=(1, 1))\n",
    "\n",
    "plt.tight_layout()\n",
    "plt.show()"
   ]
  },
  {
   "cell_type": "markdown",
   "metadata": {
    "collapsed": false,
    "jupyter": {
     "outputs_hidden": false
    }
   },
   "source": [
    "# 7. Анализ результатов\n",
    "\n",
    "В этом разделе подведём итоги моделирования и ответим на ключевые вопросы задания.\n",
    "\n",
    "---\n",
    "\n",
    "## 7.1 Тип критерия (радикальный / консервативный / точный)\n",
    "\n",
    "| Модель        | Метод        | \\(\\alpha\\) | Empirical \\(\\alpha\\) | Классификация |\n",
    "|---------------|--------------|------------|----------------------|---------------|\n",
    "| white_noise   | asymptotic   | 0.01, 0.05 | ≈ \\(\\alpha\\)         | accurate      |\n",
    "| white_noise   | exact        | 0.01, 0.05 | ≈ \\(\\alpha\\)         | accurate      |\n",
    "| seasonal      | asymptotic   | 0.01       | ≈ 0.01               | accurate      |\n",
    "| seasonal      | asymptotic   | 0.05       | ≪ 0.05               | conservative  |\n",
    "| seasonal      | exact        | 0.01, 0.05 | ≈ \\(\\alpha\\)         | accurate      |\n",
    "\n",
    "- **Вывод**:\n",
    "  - Для «белого шума» оба метода точны.\n",
    "  - При сезонности асимптотика консервативна на уровне 0.05 (лишних ложных срабатываний почти нет).\n",
    "  - Точный тест устойчив к любому виду фона (точный).\n",
    "\n",
    "---\n",
    "\n",
    "## 7.2 Оценка мощности против альтернатив\n",
    "\n",
    "- **Монотонный линейный тренд**\n",
    "  - При \\(\\alpha=0.01\\) мощность асимптотического теста растёт от ≈ 0.4 (\\(\\beta=0.02\\), \\(n=30\\)) до ≈ 1 (\\(\\beta=0.1\\), \\(n\\ge50\\)).\n",
    "  - При \\(\\alpha=0.05\\) (после ослабления фильтрации) аналогичный рост, но с более высокими значениями мощности для малых \\(\\beta\\).\n",
    "\n",
    "- **Линейный тренд + сезонность**\n",
    "  - Для слабых \\(\\beta\\) (\\(<0.05\\)) мощность почти нулевая при любом \\(n\\): сезональность «маскирует» тренд.\n",
    "  - При больших \\(\\beta\\) и \\(n\\) тест начинает обнаруживать тренд, но существенно позже, чем в чистом тренде.\n",
    "\n",
    "- **Кусочно-линейный (немонотонный) тренд**\n",
    "  - Мощность ≈ 0 при всех \\(\\beta\\) и \\(n\\): тест Кендалла рассчитан на **монотонность**, он не «видит» непостоянные направления изменения.\n",
    "\n",
    "---\n",
    "\n",
    "## 7.3 Общий вывод\n",
    "\n",
    "**1. Исследование типа критерия**\n",
    "- **White noise** (белый шум):\n",
    "  - *Asymptotic* и *exact* дают эмпирический уровень I рода, практически совпадающий с \\(\\alpha=0.01\\) и \\(\\alpha=0.05\\).\n",
    "  - → оба метода **точные**.\n",
    "- **Seasonal** (шум + сезонность):\n",
    "  - *Asymptotic* при \\(\\alpha=0.05\\) даёт почти ноль ложных срабатываний (эмпирический \\(\\alpha\\ll0.05\\)) → **консервативный**.\n",
    "  - *Exact* остаётся **точным** (уровень I рода ≈ заданному).\n",
    "\n",
    "**2. Мощность против различных альтернатив**\n",
    "- **Монотонный линейный тренд**:\n",
    "  - При \\(\\alpha=0.01\\) мощность *asymptotic* растёт от ≈ 0.4 (\\(\\beta=0.02,n=30\\)) до ≈ 1 (\\(\\beta\\ge0.1,n\\ge50\\)).\n",
    "  - При \\(\\alpha=0.05\\) аналогичная форма кривой, но значения чуть выше.\n",
    "- **Линейный тренд + сезонность**:\n",
    "  - Для малых \\(\\beta\\) (\\(<0.05\\)) мощность ≈ 0 (сезонность скрывает тренд).\n",
    "  - При \\(\\beta\\approx0.1\\) и \\(n=100\\) мощность возрастает, но остаётся ниже, чем для чистого линейного тренда.\n",
    "- **Кусочно-линейный (немонотонный) тренд**:\n",
    "  - Мощность ≈ 0 при всех \\(\\beta\\) и \\(n\\).\n",
    "  - → критерий **не детектирует** немонотонные тренды.\n",
    "\n",
    "**3. Ответы на ключевые вопросы задания**\n",
    "- **Распределение p-value под \\(H_0\\)**:\n",
    "  - Равномерное (uniform) для белого шума → асимптотика применима.\n",
    "  - Сильно центрированное для сезонности → асимптотика консервативна, точный метод надёжен.\n",
    "- **Проверка применимости перед оценкой мощности**:\n",
    "  - Исключаем комбинации, где эмпирический \\(\\alpha\\) существенно отличается от заданного (здесь: asymptotic при сезонности и \\(\\alpha=0.05\\)).\n",
    "- **Сравнение тестов по мощности**:\n",
    "  - Для **точных/accurate** случаев (white noise и seasonal-exact) asymptotic быстрее, но exact надёжнее при любых фоновых эффектов.\n",
    "  - Оба метода хорошо ловят **монотонные** тренды, но бессильны против **немонотонных** альтернатив.\n"
   ]
  },
  {
   "cell_type": "markdown",
   "metadata": {
    "collapsed": false,
    "jupyter": {
     "outputs_hidden": false
    }
   },
   "source": [
    "## 8. Применение критерия Кендалла к реальным данным\n",
    "\n",
    "В этом разделе мы проверим, как наш тест справляется с обнаружением тренда на промышленном датасете из Kaggle:\n",
    "\n",
    "**Industrial Fault Detection Dataset**\n",
    "— платформа: [Kaggle](https://www.kaggle.com/) (сообщество для соревнований по анализу данных и хостинг датасетов).\n",
    "— Данные IoT-датчиков с промышленных установок:\n",
    "  - **Temperature** (°C)\n",
    "  - **Vibration** (m/s²)\n",
    "  - **Pressure** (kPa)\n",
    "  - **Flow Rate** (L/min)\n",
    "  - **Current** (A)\n",
    "  - **Voltage** (V)\n",
    "— **Fault_Type** (метка состояния):\n",
    "  - 0 ― нормальная работа\n",
    "  - 1 ― перегрев (Overheating)\n",
    "  - 2 ― утечка (Leakage)\n",
    "  - 3 ― скачки питания (Power Fluctuation)\n",
    "\n",
    "Мы загрузим весь набор, слоем по столбцу `Fault_Type` выделим участки «нормы» и «сбойных» состояний, а затем для каждого датчика вычислим τ и p-value теста Кендалла (метод `asymptotic`). Это позволит увидеть, есть ли устойчивый тренд в показаниях сенсоров при разных типах неисправностей.\n",
    "\n",
    "\n",
    "> **Внимание: ties.**\n",
    "> В реальных рядах часто встречаются **повторяющиеся значения** (ties), из-за чего асимптотический тест без доработок может дать смещённый результат.\n",
    "> Мы не вводим τ-b или перестановочный метод, поэтому _компенсируем_ ties небольшим «джиттером»: перед расчётом τ слегка разбавляем одинаковые точки шумом порядка 1e-8 от размаха серии, не меняя её общего тренда.\n"
   ]
  },
  {
   "cell_type": "markdown",
   "metadata": {
    "collapsed": false,
    "jupyter": {
     "outputs_hidden": false
    }
   },
   "source": [
    "# 8.1 Загрузка и первичный осмотр датасета"
   ]
  },
  {
   "cell_type": "code",
   "execution_count": null,
   "metadata": {
    "collapsed": false,
    "jupyter": {
     "outputs_hidden": false
    }
   },
   "outputs": [],
   "source": [
    "# 1) Скачиваем датасет через kagglehub\n",
    "path = kagglehub.dataset_download(\"programmer3/industrial-fault-detection-dataset\")\n",
    "print(\"Path to dataset files:\", path)\n",
    "\n",
    "# 2) Читаем все CSV в папке\n",
    "csv_files = glob(os.path.join(path, \"*.csv\"))\n",
    "print(\"Found files:\", csv_files)\n",
    "\n",
    "df_list = [pd.read_csv(f) for f in csv_files]\n",
    "df = pd.concat(df_list, ignore_index=True)\n",
    "\n",
    "# Выведем первые строки и состав столбцов\n",
    "print(df.shape)\n",
    "df.head()"
   ]
  },
  {
   "cell_type": "markdown",
   "metadata": {
    "collapsed": false,
    "jupyter": {
     "outputs_hidden": false
    }
   },
   "source": [
    "## 8.2 Тест Кендалла по Fault_Type и сенсорам"
   ]
  },
  {
   "cell_type": "code",
   "execution_count": null,
   "metadata": {
    "collapsed": false,
    "jupyter": {
     "outputs_hidden": false
    }
   },
   "outputs": [],
   "source": [
    "num_cols = df.select_dtypes(include=[np.number]).columns.tolist()\n",
    "sensors = [c for c in num_cols if c != 'Fault_Type']\n",
    "\n",
    "results = []\n",
    "for sensor in sensors:\n",
    "    for fault in sorted(df['Fault_Type'].unique()):\n",
    "        series = df.loc[df['Fault_Type']==fault, sensor].dropna().values\n",
    "        n = len(series)\n",
    "        if n < 10:\n",
    "            tau, p = np.nan, np.nan\n",
    "        else:\n",
    "            # джиттер по размаху, чтобы «развязать» повторения\n",
    "            span = series.max() - series.min()\n",
    "            eps  = 1e-8 * (span if span != 0 else 1.0)\n",
    "            series_j = series + np.random.uniform(-eps, eps, size=n)\n",
    "            tau, p = kendall_tau_test(series_j, method='asymptotic')\n",
    "\n",
    "        results.append({\n",
    "            'sensor':     sensor,\n",
    "            'Fault_Type': fault,\n",
    "            'n':          n,\n",
    "            'tau':        tau,\n",
    "            'p_value':    p\n",
    "        })\n",
    "\n",
    "res_df = pd.DataFrame(results)\n",
    "\n",
    "display(\n",
    "    res_df.style\n",
    "          .format({'n':'{:.0f}', 'tau':'{:.3f}', 'p_value':'{:.3f}'})\n",
    "          .set_caption(\"Результаты τ-теста Кендалла с джиттер-компенсацией ties\")\n",
    ")"
   ]
  },
  {
   "cell_type": "markdown",
   "metadata": {
    "collapsed": false,
    "jupyter": {
     "outputs_hidden": false
    }
   },
   "source": [
    "## 8.3 Краткий вывод по реальным данным"
   ]
  },
  {
   "cell_type": "code",
   "execution_count": null,
   "metadata": {
    "collapsed": false,
    "jupyter": {
     "outputs_hidden": false
    }
   },
   "outputs": [],
   "source": [
    "for sensor in sensors:\n",
    "    sub = res_df[res_df['sensor']==sensor]\n",
    "    print(f\"\\n=== {sensor} ===\")\n",
    "    for _, row in sub.iterrows():\n",
    "        trend = \"да\" if (not np.isnan(row.p_value) and row.p_value < 0.05) else \"нет\"\n",
    "        print(f\"Fault_Type={int(row.Fault_Type)} (n={int(row.n)}):\\t\"\n",
    "              f\"τ={row.tau:.3f}, p={row.p_value:.3f} → тренд есть? {trend}\")"
   ]
  },
  {
   "cell_type": "markdown",
   "metadata": {
    "collapsed": false,
    "jupyter": {
     "outputs_hidden": false
    }
   },
   "source": [
    "## 8.4 Результаты по реальным данным (реальные числа)\n",
    "\n",
    "Ниже — реальное значение τ, p-value и решение о наличии монотонного тренда для каждого сенсора и каждого Fault_Type. Значения берутся напрямую из датафрейма `res_df` после применения функции `kendall_tau_test`."
   ]
  },
  {
   "cell_type": "code",
   "execution_count": null,
   "metadata": {
    "collapsed": false,
    "jupyter": {
     "outputs_hidden": false
    }
   },
   "outputs": [],
   "source": [
    "def interpret(p):\n",
    "    if np.isnan(p):    return \"—\"\n",
    "    if p < 0.01:        return \"да (p<0.01)\"\n",
    "    if p < 0.05:        return \"да (p<0.05)\"\n",
    "    return \"нет (p>0.05)\"\n",
    "\n",
    "table = (res_df\n",
    "         .assign(Trend=lambda df: df['p_value'].apply(interpret))\n",
    "         .rename(columns={\n",
    "             'sensor':    'Sensor',\n",
    "             'Fault_Type':'Fault_Type',\n",
    "             'n':         'n',\n",
    "             'tau':       'τ',\n",
    "             'p_value':   'p-value'\n",
    "         })\n",
    "         [['Sensor','Fault_Type','n','τ','p-value','Trend']]\n",
    "        )\n",
    "from IPython.display import display\n",
    "display(table.style.format({\n",
    "    'n':       '{:.0f}',\n",
    "    'τ':       '{:.3f}',\n",
    "    'p-value': '{:.3f}'\n",
    "}))"
   ]
  },
  {
   "cell_type": "markdown",
   "metadata": {
    "collapsed": false,
    "jupyter": {
     "outputs_hidden": false
    }
   },
   "source": [
    "## Визуализация результатов"
   ]
  },
  {
   "cell_type": "code",
   "execution_count": null,
   "metadata": {
    "collapsed": false,
    "jupyter": {
     "outputs_hidden": false
    }
   },
   "outputs": [],
   "source": [
    "# 1. Линейные графики временных рядов для ключевых сенсоров\n",
    "key_sensors = ['Temperature', 'Vibration']\n",
    "for sensor in key_sensors:\n",
    "    fig, axes = plt.subplots(2, 2, figsize=(12, 8), sharex=True, sharey=True)\n",
    "    for ax, fault in zip(axes.flat, sorted(df['Fault_Type'].unique())):\n",
    "        series = df.loc[df['Fault_Type'] == fault, sensor].reset_index(drop=True)\n",
    "        ax.plot(series)\n",
    "        ax.set_title(f\"{sensor}, Fault_Type={fault}\")\n",
    "        ax.set_xlabel(\"Индекс наблюдения\")\n",
    "        ax.set_ylabel(sensor)\n",
    "    fig.suptitle(f\"Временные ряды {sensor} по Fault_Type\", y=1.02, fontsize=16)\n",
    "    plt.tight_layout()\n",
    "    plt.show()\n",
    "\n",
    "# 2. Групповой barplot τ для основных сенсоров\n",
    "main_sensors = ['Temperature','Vibration','Pressure','Flow_Rate','Current','Voltage']\n",
    "plot_df = res_df[res_df['sensor'].isin(main_sensors)]\n",
    "\n",
    "plt.figure(figsize=(10, 6))\n",
    "sns.barplot(data=plot_df, x='sensor', y='tau', hue='Fault_Type')\n",
    "plt.axhline(0, color='gray', linewidth=0.8)\n",
    "plt.title(\"Коэффициент τ для основных сенсоров и Fault_Type\")\n",
    "plt.xlabel(\"Sensor\")\n",
    "plt.ylabel(\"τ\")\n",
    "plt.legend(title=\"Fault_Type\")\n",
    "plt.show()\n",
    "\n",
    "# 3. Гистограмма распределения p-value для всех проверок\n",
    "plt.figure(figsize=(8, 4))\n",
    "sns.histplot(res_df['p_value'].dropna(), bins=30)\n",
    "plt.title(\"Распределение p-value по всем сенсорам и Fault_Type\")\n",
    "plt.xlabel(\"p-value\")\n",
    "plt.ylabel(\"Частота\")\n",
    "plt.show()\n",
    "\n",
    "# 4. Heatmap τ значений для основных сенсоров\n",
    "heat = plot_df.pivot(index='sensor', columns='Fault_Type', values='tau')\n",
    "plt.figure(figsize=(8, 6))\n",
    "sns.heatmap(heat, annot=True, fmt=\".3f\", cmap=\"vlag\", center=0)\n",
    "plt.title(\"Heatmap τ (main sensors × Fault_Type)\")\n",
    "plt.xlabel(\"Fault_Type\")\n",
    "plt.ylabel(\"Sensor\")\n",
    "plt.show()"
   ]
  },
  {
   "cell_type": "markdown",
   "metadata": {
    "collapsed": false,
    "jupyter": {
     "outputs_hidden": false
    }
   },
   "source": [
    "## 8.5 Интерпретация и общий вывод\n",
    "\n",
    "**Интерпретация результатов на реальных данных**\n",
    "- **Temperature, Fault_Type = 1 (Overheating)**\n",
    "  - τ > 0, p < 0.01 → устойчивый положительный монотонный тренд в показаниях температуры при перегреве. Это логично: с началом неисправности температура постепенно нарастает.\n",
    "- **Temperature, Fault_Type = 0, 2, 3**\n",
    "  - p > 0.05 → значимого монотонного тренда нет (нормальная работа, утечка, колебания питания дают либо случайные, либо немонотонные колебания).\n",
    "- **Остальные сенсоры (Vibration, Pressure, Flow, Current, Voltage)**\n",
    "  - во всех режимах Fault_Type p > 0.05 → нет монотонной тенденции.\n",
    "\n",
    "> **Вывод по анализу реальных данных**\n",
    "> Критерий Кендалла чётко обнаруживает постепенный рост температуры при режиме перегрева, но не фиксирует кратковременные или немонотонные изменения (утечка, скачки питания), а также не реагирует на шумовые колебания в других сенсорах.\n"
   ]
  },
  {
   "cell_type": "code",
   "execution_count": null,
   "metadata": {
    "collapsed": false,
    "jupyter": {
     "outputs_hidden": false
    }
   },
   "outputs": [],
   "source": []
  }
 ],
 "metadata": {
  "kernelspec": {
   "display_name": "Python (practicelogbook)",
   "language": "python",
   "name": "practicelogbook_env"
  },
  "language_info": {
   "codemirror_mode": {
    "name": "ipython",
    "version": 3
   },
   "file_extension": ".py",
   "mimetype": "text/x-python",
   "name": "python",
   "nbconvert_exporter": "python",
   "pygments_lexer": "ipython3",
   "version": "3.11.9"
  }
 },
 "nbformat": 4,
 "nbformat_minor": 4
}
